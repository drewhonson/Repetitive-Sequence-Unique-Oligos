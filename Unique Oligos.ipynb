{
 "cells": [
  {
   "cell_type": "code",
   "execution_count": 23,
   "metadata": {},
   "outputs": [],
   "source": [
    "def unique_oligos_beta(full, select, bp = 30):\n",
    "    '''Finds unique oligos of a particular length\n",
    "    within a particular region of a repetitive elemement'''\n",
    "    full_list = []\n",
    "    for i in range(len(full) - bp):\n",
    "        full_list.append(full[i:i+bp])\n",
    "    full_set = [y for y in full_list if full_list.count(y) == 1]\n",
    "    uniques = []\n",
    "    for i in full_set:\n",
    "        if i in select:\n",
    "            uniques.append(i)\n",
    "    if len(uniques) == 0:\n",
    "        print('I\\'m sorry, there are no unique oligos of length ' \n",
    "             + str(bp) + ' in the selection provided')\n",
    "    else:\n",
    "        print('The following sequence(s) of length ' + str(bp) + \n",
    "             ' are unique to your sequence')\n",
    "        print(uniques)"
   ]
  },
  {
   "cell_type": "code",
   "execution_count": 35,
   "metadata": {},
   "outputs": [
    {
     "name": "stdout",
     "output_type": "stream",
     "text": [
      "The following sequence(s) of length 30 are unique to your sequence\n",
      "['GTCAGACCTCATCAAGCACCAGAGGACACA', 'TCAGACCTCATCAAGCACCAGAGGACACAC']\n"
     ]
    }
   ],
   "source": [
    "unique_oligos_beta('''GCCACCATGGAATGGAATCATCGCACTGAAATCTTCCCAGGAACATCTGCAAGAAT\n",
    "              AAATCCTAAACCAGGAGATCCCTGTTCAGATCAGCTTCAGGAACAACATGTTGATTC\n",
    "              ACAGAACAAAAATGACAAGGCCAGCAATGAAGTAAAAAGAAAATCCAAACCCAGGCA\n",
    "              GAGGATTTCAACAACCTTTCCCAGCACACTCAAAGAACAAATGAGATCTGAGGAAAG\n",
    "              TAAGAGAACTGTGGAAGAGCTCAGAACAGGCCAGACAACAAATACAGAGGACACAGT\n",
    "              CAAATCATTTATTGCATCAGAAATCTCAAGTATTGAAAGACAATGTGGGCAATATTT\n",
    "              CAGTGATAAGTCAAATGTCAATGAGCACCAGAAGACACACACAGGGGAGAAGCCCTA\n",
    "              TGTTTGCAGGGAGTGTGGGCGGGGCTTTACACAGAACTCACACCTCATCCAGCACCA\n",
    "              GAGGACACACACAGGGGAGAAGCCCTATGTTTGCAGGGAGTGTGGGCGGGGCTTTAC\n",
    "              ACAGAAGTCAGACCTCATCAAGCACCAGAGGACACACACAGGGGAGAAGCCCTATGT\n",
    "              TTGCAGGGAGTGTGGGCGGGGCTTTACACAGAAGTCAGACCTCATCAAGCACCAGAG\n",
    "              GACACACACAGGGGAGAAGCCCTATGTTTGCAGGGAGTGTGGGCGGGGCTTTACACA\n",
    "              GAAGTCAGTCCTCATCAAGCACCAGAGGACACACACAGGGGAGAAGCCCTATGTTTG\n",
    "              CAGGGAGTGTGGGCGGGGCTTTACACAGAAGTCAGTCCTCATCAAGCACCAGAGGACA\n",
    "              CACACAGGGGAGAAGCCCTATGTTTGCAGGGAGTGTGGGCGGGGCTTTACAGCGAAGT\n",
    "              CAGTCCTCATCCAGCACCAGAGGACACACACAGGGGAGAAGCCCTATGTTTGCAGGGA\n",
    "              GTGTGGGCGGGGCTTTACAGCGAAGTCAAACCTCATCCAGCACCAGAGGACACACACA\n",
    "              GGGGAGAAGCCCTATGTTTGCAGGGAGTGTGGGCGGGGCTTTACAGCGAAGTCAGTCC\n",
    "              TCATCCAGCACCAGAGGACACACACAGGGGAGAAGCCCTATGTTTGCAGGGAGTGTGG\n",
    "              GCGGGGCTTTACAGCGAAGTCAGTCCTCATCCAGCACCAGAGGACACACACAGGGGAGA\n",
    "              AGCCCTATGTTTGCAGGGAGTGTGGGCGGGGCTTTACACAGAAGTCAAACCTCATCAAG\n",
    "              CACCAGAGGACACACACAGGGGAGAAGCCCTATGTTTGCAGGGAGTGTGGGTGGGGCT\n",
    "              TTACACAGAAGTCAG''', '''GTTTGCAGGGAGTGTGGGCGGGGCTTTACACAGAA\n",
    "              GTCAGACCTCATCAAGCACCAGAGGACACAC''')"
   ]
  },
  {
   "cell_type": "code",
   "execution_count": 57,
   "metadata": {},
   "outputs": [],
   "source": [
    "def unique_oligos(full, select, lowbp = 15, highbp = 30, lowtm = 55, hightm = 65):\n",
    "    '''Finds unique oligos of a particular length\n",
    "    within a particular region of a repetitive elemement'''\n",
    "    full_list = []\n",
    "    for n in range(lowbp, highbp):\n",
    "        for i in range(len(full) - n):\n",
    "            full_list.append(full[i:i+n])\n",
    "    full_set = [y for y in full_list if full_list.count(y) == 1]\n",
    "    if len(full_set) < 1:\n",
    "        raise ValueError('Unfortunately, there are no unique oligos between' + str(lowbp)\n",
    "             + ' and ' + str(highbp) + ' bp in the full sequence')\n",
    "    from Bio.SeqUtils import MeltingTemp as mt\n",
    "    from Bio.Seq import Seq\n",
    "    temp_adjust = [y for y in full_set if lowbp < mt.Tm_NN(Seq(y)) < highbp]\n",
    "    if len(temp_adjust) < 1:\n",
    "        raise ValueError('Unfortunately there are no unique oligos with Tm values between '\n",
    "              + str(lowtm) + ' and ' + str(hightm) + 'degrees Celsius in the sequence')\n",
    "    uniques = []\n",
    "    for i in temp_adjust:\n",
    "        if i in select:\n",
    "            uniques.append(i)\n",
    "    if len(uniques) < 1:\n",
    "        print('''I\\'m sorry, there are no oligos that fit the provided parameters''')\n",
    "    else:\n",
    "        print('''The following sequence(s) are unique to your sequence and fit the\n",
    "          parameters provided''')\n",
    "        print(uniques)"
   ]
  },
  {
   "cell_type": "code",
   "execution_count": 58,
   "metadata": {},
   "outputs": [
    {
     "name": "stdout",
     "output_type": "stream",
     "text": [
      "I'm sorry, there are no oligos that fit the provided parameters\n"
     ]
    }
   ],
   "source": [
    "unique_oligos('''GCCACCATGGAATGGAATCATCGCACTGAAATCTTCCCAGGAACATCTGCAAGAAT\n",
    "              AAATCCTAAACCAGGAGATCCCTGTTCAGATCAGCTTCAGGAACAACATGTTGATTC\n",
    "              ACAGAACAAAAATGACAAGGCCAGCAATGAAGTAAAAAGAAAATCCAAACCCAGGCA\n",
    "              GAGGATTTCAACAACCTTTCCCAGCACACTCAAAGAACAAATGAGATCTGAGGAAAG\n",
    "              TAAGAGAACTGTGGAAGAGCTCAGAACAGGCCAGACAACAAATACAGAGGACACAGT\n",
    "              CAAATCATTTATTGCATCAGAAATCTCAAGTATTGAAAGACAATGTGGGCAATATTT\n",
    "              CAGTGATAAGTCAAATGTCAATGAGCACCAGAAGACACACACAGGGGAGAAGCCCTA\n",
    "              TGTTTGCAGGGAGTGTGGGCGGGGCTTTACACAGAACTCACACCTCATCCAGCACCA\n",
    "              GAGGACACACACAGGGGAGAAGCCCTATGTTTGCAGGGAGTGTGGGCGGGGCTTTAC\n",
    "              ACAGAAGTCAGACCTCATCAAGCACCAGAGGACACACACAGGGGAGAAGCCCTATGT\n",
    "              TTGCAGGGAGTGTGGGCGGGGCTTTACACAGAAGTCAGACCTCATCAAGCACCAGAG\n",
    "              GACACACACAGGGGAGAAGCCCTATGTTTGCAGGGAGTGTGGGCGGGGCTTTACACA\n",
    "              GAAGTCAGTCCTCATCAAGCACCAGAGGACACACACAGGGGAGAAGCCCTATGTTTG\n",
    "              CAGGGAGTGTGGGCGGGGCTTTACACAGAAGTCAGTCCTCATCAAGCACCAGAGGACA\n",
    "              CACACAGGGGAGAAGCCCTATGTTTGCAGGGAGTGTGGGCGGGGCTTTACAGCGAAGT\n",
    "              CAGTCCTCATCCAGCACCAGAGGACACACACAGGGGAGAAGCCCTATGTTTGCAGGGA\n",
    "              GTGTGGGCGGGGCTTTACAGCGAAGTCAAACCTCATCCAGCACCAGAGGACACACACA\n",
    "              GGGGAGAAGCCCTATGTTTGCAGGGAGTGTGGGCGGGGCTTTACAGCGAAGTCAGTCC\n",
    "              TCATCCAGCACCAGAGGACACACACAGGGGAGAAGCCCTATGTTTGCAGGGAGTGTGG\n",
    "              GCGGGGCTTTACAGCGAAGTCAGTCCTCATCCAGCACCAGAGGACACACACAGGGGAGA\n",
    "              AGCCCTATGTTTGCAGGGAGTGTGGGCGGGGCTTTACACAGAAGTCAAACCTCATCAAG\n",
    "              CACCAGAGGACACACACAGGGGAGAAGCCCTATGTTTGCAGGGAGTGTGGGTGGGGCT\n",
    "              TTACACAGAAGTCAG''', '''GTTTGCAGGGAGTGTGGGCGGGGCTTTACACAGAA\n",
    "              GTCAGACCTCATCAAGCACCAGAGGACACAC''')"
   ]
  },
  {
   "cell_type": "code",
   "execution_count": null,
   "metadata": {
    "collapsed": true
   },
   "outputs": [],
   "source": []
  }
 ],
 "metadata": {
  "kernelspec": {
   "display_name": "Python 3",
   "language": "python",
   "name": "python3"
  },
  "language_info": {
   "codemirror_mode": {
    "name": "ipython",
    "version": 3
   },
   "file_extension": ".py",
   "mimetype": "text/x-python",
   "name": "python",
   "nbconvert_exporter": "python",
   "pygments_lexer": "ipython3",
   "version": "3.6.1"
  }
 },
 "nbformat": 4,
 "nbformat_minor": 2
}
